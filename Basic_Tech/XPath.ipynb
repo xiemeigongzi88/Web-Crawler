{
 "cells": [
  {
   "cell_type": "markdown",
   "metadata": {},
   "source": [
    "# XPath"
   ]
  },
  {
   "cell_type": "code",
   "execution_count": 1,
   "metadata": {},
   "outputs": [
    {
     "name": "stdout",
     "output_type": "stream",
     "text": [
      "<html><body><div>\n",
      "    <ul>\n",
      "         <li class=\"item-0\"><a href=\"link1.html\">first item</a></li>\n",
      "         <li class=\"item-1\"><a href=\"link2.html\">second item</a></li>\n",
      "         <li class=\"item-inactive\"><a href=\"link3.html\">third item</a></li>\n",
      "         <li class=\"item-1\"><a href=\"link4.html\">fourth item</a></li>\n",
      "         <li class=\"item-0\"><a href=\"link5.html\">fifth item</a>\n",
      "     </li></ul>\n",
      " </div>\n",
      "</body></html>\n"
     ]
    }
   ],
   "source": [
    "from lxml import etree\n",
    "text = '''\n",
    "<div>\n",
    "    <ul>\n",
    "         <li class=\"item-0\"><a href=\"link1.html\">first item</a></li>\n",
    "         <li class=\"item-1\"><a href=\"link2.html\">second item</a></li>\n",
    "         <li class=\"item-inactive\"><a href=\"link3.html\">third item</a></li>\n",
    "         <li class=\"item-1\"><a href=\"link4.html\">fourth item</a></li>\n",
    "         <li class=\"item-0\"><a href=\"link5.html\">fifth item</a>\n",
    "     </ul>\n",
    " </div>\n",
    "'''\n",
    "# 声明了一段HTML文本，\n",
    "# 调用HTML类进行初始化，这样就成功构造了一个XPath解析对象\n",
    "html = etree.HTML(text)\n",
    "result = etree.tostring(html)\n",
    "\n",
    "# HTML文本中的最后一个li节点是没有闭合的，\n",
    "# 但是etree模块可以自动修正HTML文本。\n",
    "print(result.decode('utf-8'))\n",
    "\n",
    "# 经过处理之后，li节点标签被补全，\n",
    "# 并且还自动添加了body、html节点。"
   ]
  },
  {
   "cell_type": "markdown",
   "metadata": {},
   "source": [
    "## 所有节点"
   ]
  },
  {
   "cell_type": "code",
   "execution_count": 2,
   "metadata": {},
   "outputs": [
    {
     "name": "stdout",
     "output_type": "stream",
     "text": [
      "[<Element html at 0x1fe4866b148>, <Element body at 0x1fe4a2f8388>, <Element div at 0x1fe4a2f8c48>, <Element ul at 0x1fe4a2f85c8>, <Element li at 0x1fe4a425208>, <Element a at 0x1fe48690f48>, <Element li at 0x1fe4a3de388>, <Element a at 0x1fe4a3de348>, <Element li at 0x1fe4a3de608>, <Element a at 0x1fe48690ec8>, <Element li at 0x1fe4a3d9808>, <Element a at 0x1fe4a3d9648>, <Element li at 0x1fe4a3d98c8>, <Element a at 0x1fe4a3d9b08>]\n"
     ]
    }
   ],
   "source": [
    "html = etree.HTML(text)\n",
    "# result = etree.tostring(html)\n",
    "all_nodes = html.xpath('//*')\n",
    "# 使用*代表匹配所有节点，也就是整个HTML文本中的所有节点都会被获取。\n",
    "# 可以看到，返回形式是一个列表，每个元素是Element类型，其后跟了节点的名称，\n",
    "# 如html、body、div、ul、li、a等，所有节点都包含在列表中了。\n",
    "print(all_nodes)"
   ]
  },
  {
   "cell_type": "markdown",
   "metadata": {},
   "source": [
    "匹配也可以指定节点名称。如果想获取所有li节点"
   ]
  },
  {
   "cell_type": "code",
   "execution_count": 4,
   "metadata": {},
   "outputs": [
    {
     "name": "stdout",
     "output_type": "stream",
     "text": [
      "[<Element li at 0x1fe4a425208>, <Element li at 0x1fe4a3de388>, <Element li at 0x1fe4a3de608>, <Element li at 0x1fe4a3d9808>, <Element li at 0x1fe4a3d98c8>]\n"
     ]
    }
   ],
   "source": [
    "result = html.xpath('//li')\n",
    "print(result)"
   ]
  },
  {
   "cell_type": "code",
   "execution_count": 5,
   "metadata": {},
   "outputs": [
    {
     "name": "stdout",
     "output_type": "stream",
     "text": [
      "<Element li at 0x1fe4a425208>\n"
     ]
    }
   ],
   "source": [
    "print(result[0])"
   ]
  },
  {
   "cell_type": "markdown",
   "metadata": {},
   "source": [
    "## 子节点"
   ]
  },
  {
   "cell_type": "code",
   "execution_count": 7,
   "metadata": {},
   "outputs": [
    {
     "name": "stdout",
     "output_type": "stream",
     "text": [
      "<html><body><div>\n",
      "    <ul>\n",
      "         <li class=\"item-0\"><a href=\"link1.html\">first item</a></li>\n",
      "         <li class=\"item-1\"><a href=\"link2.html\">second item</a></li>\n",
      "         <li class=\"item-inactive\"><a href=\"link3.html\">third item</a></li>\n",
      "         <li class=\"item-1\"><a href=\"link4.html\">fourth item</a></li>\n",
      "         <li class=\"item-0\"><a href=\"link5.html\">fifth item</a>\n",
      "     </li></ul>\n",
      " </div>\n",
      "</body></html>\n"
     ]
    }
   ],
   "source": [
    "html = etree.HTML(text)\n",
    "result = etree.tostring(html)\n",
    "print(result.decode('utf-8'))"
   ]
  },
  {
   "cell_type": "code",
   "execution_count": 8,
   "metadata": {},
   "outputs": [
    {
     "name": "stdout",
     "output_type": "stream",
     "text": [
      "[<Element a at 0x1fe4a48b708>, <Element a at 0x1fe4a2f8188>, <Element a at 0x1fe4a4acc48>, <Element a at 0x1fe4a4acb88>, <Element a at 0x1fe4a4acb48>]\n"
     ]
    }
   ],
   "source": [
    "# 选择li节点的所有直接a子节点\n",
    "result = html.xpath('//li/a')\n",
    "print(result)"
   ]
  },
  {
   "cell_type": "code",
   "execution_count": 9,
   "metadata": {},
   "outputs": [
    {
     "name": "stdout",
     "output_type": "stream",
     "text": [
      "[<Element a at 0x1fe4a48b708>, <Element a at 0x1fe4a2f8188>, <Element a at 0x1fe4a4acc48>, <Element a at 0x1fe4a4acb88>, <Element a at 0x1fe4a4acb48>]\n"
     ]
    }
   ],
   "source": [
    "# 要获取所有子孙节点，就可以使用//\n",
    "\n",
    "result = html.xpath('//ul//a')\n",
    "print(result)"
   ]
  },
  {
   "cell_type": "code",
   "execution_count": 10,
   "metadata": {},
   "outputs": [
    {
     "name": "stdout",
     "output_type": "stream",
     "text": [
      "[]\n"
     ]
    }
   ],
   "source": [
    "# 如果这里用//ul/a，就无法获取任何结果了。\n",
    "# 因为/用于获取直接子节点，而在ul节点下没有直接的a子节点，\n",
    "# 只有li节点，所以无法获取任何匹配结果\n",
    "\n",
    "result = html.xpath('//ul/a')\n",
    "print(result)\n"
   ]
  },
  {
   "cell_type": "markdown",
   "metadata": {},
   "source": [
    "## 父节点"
   ]
  },
  {
   "cell_type": "markdown",
   "metadata": {},
   "source": []
  },
  {
   "cell_type": "code",
   "execution_count": 11,
   "metadata": {},
   "outputs": [
    {
     "name": "stdout",
     "output_type": "stream",
     "text": [
      "<html><body><div>\n",
      "    <ul>\n",
      "         <li class=\"item-0\"><a href=\"link1.html\">first item</a></li>\n",
      "         <li class=\"item-1\"><a href=\"link2.html\">second item</a></li>\n",
      "         <li class=\"item-inactive\"><a href=\"link3.html\">third item</a></li>\n",
      "         <li class=\"item-1\"><a href=\"link4.html\">fourth item</a></li>\n",
      "         <li class=\"item-0\"><a href=\"link5.html\">fifth item</a>\n",
      "     </li></ul>\n",
      " </div>\n",
      "</body></html>\n"
     ]
    }
   ],
   "source": [
    "# 查找父节点呢？这可以用..来实现。\n",
    "# 选中href属性为link4.html的a节点，然后再获取其父节点，然后再获取其class属性，\n",
    "\n",
    "html = etree.HTML(text)\n",
    "result = etree.tostring(html)\n",
    "print(result.decode('utf-8'))"
   ]
  },
  {
   "cell_type": "code",
   "execution_count": 14,
   "metadata": {},
   "outputs": [
    {
     "name": "stdout",
     "output_type": "stream",
     "text": [
      "['item-1']\n",
      "<class 'list'>\n"
     ]
    }
   ],
   "source": [
    "result = html.xpath('//a[@href=\"link4.html\"]/../@class')\n",
    "print(result)\n",
    "print(type(result))"
   ]
  },
  {
   "cell_type": "markdown",
   "metadata": {},
   "source": [
    "## 属性匹配"
   ]
  },
  {
   "cell_type": "code",
   "execution_count": 13,
   "metadata": {},
   "outputs": [
    {
     "name": "stdout",
     "output_type": "stream",
     "text": [
      "[<Element li at 0x1fe4a4b0e08>, <Element li at 0x1fe4a4ac788>]\n"
     ]
    }
   ],
   "source": [
    "result = html.xpath('//li[@class=\"item-0\"]')\n",
    "print(result)"
   ]
  },
  {
   "cell_type": "markdown",
   "metadata": {},
   "source": [
    "##  文本获取"
   ]
  },
  {
   "cell_type": "code",
   "execution_count": 15,
   "metadata": {},
   "outputs": [
    {
     "name": "stdout",
     "output_type": "stream",
     "text": [
      "['\\n     ']\n"
     ]
    }
   ],
   "source": [
    "#XPath中的text()方法获取节点中的文本，\n",
    "# 接下来尝试获取前面li节点中的文本\n",
    "\n",
    "result = html.xpath('//li[@class=\"item-0\"]/text()')\n",
    "print(result)"
   ]
  },
  {
   "cell_type": "markdown",
   "metadata": {},
   "source": [
    "XPath中text()前面是/，而此处/的含义是选取直接子节点，很明显li的直接子节点都是a节点，文本都是在a节点内部的，所以这里匹配到的结果就是被修正的li节点内部的换行符，因为自动修正的li节点的尾标签换行了"
   ]
  },
  {
   "cell_type": "markdown",
   "metadata": {},
   "source": [
    "如果想获取li节点内部的文本，就有两种方式，一种是先选取a节点再获取文本，另一种就是使用//"
   ]
  },
  {
   "cell_type": "code",
   "execution_count": 16,
   "metadata": {},
   "outputs": [
    {
     "name": "stdout",
     "output_type": "stream",
     "text": [
      "['first item', 'fifth item']\n"
     ]
    }
   ],
   "source": [
    "\n",
    "result = html.xpath('//li[@class=\"item-0\"]/a/text()')\n",
    "print(result)"
   ]
  },
  {
   "cell_type": "code",
   "execution_count": 17,
   "metadata": {},
   "outputs": [
    {
     "name": "stdout",
     "output_type": "stream",
     "text": [
      "['first item', 'fifth item', '\\n     ']\n"
     ]
    }
   ],
   "source": [
    "result = html.xpath('//li[@class=\"item-0\"]//text()')\n",
    "print(result)"
   ]
  },
  {
   "cell_type": "markdown",
   "metadata": {},
   "source": [
    "## 属性获取"
   ]
  },
  {
   "cell_type": "code",
   "execution_count": 18,
   "metadata": {},
   "outputs": [
    {
     "name": "stdout",
     "output_type": "stream",
     "text": [
      "['link1.html', 'link2.html', 'link3.html', 'link4.html', 'link5.html']\n"
     ]
    }
   ],
   "source": [
    "result = html.xpath('//li/a/@href')\n",
    "print(result)"
   ]
  },
  {
   "cell_type": "markdown",
   "metadata": {},
   "source": [
    "## 属性多值匹配"
   ]
  },
  {
   "cell_type": "code",
   "execution_count": 20,
   "metadata": {},
   "outputs": [
    {
     "name": "stdout",
     "output_type": "stream",
     "text": [
      "<html><body><div>\n",
      "    <ul>\n",
      "         <li class=\"item-0\"><a href=\"link1.html\">first item</a></li>\n",
      "         <li class=\"item-1\"><a href=\"link2.html\">second item</a></li>\n",
      "         <li class=\"item-inactive\"><a href=\"link3.html\">third item</a></li>\n",
      "         <li class=\"item-1\"><a href=\"link4.html\">fourth item</a></li>\n",
      "         <li class=\"item-0\"><a href=\"link5.html\">fifth item</a>\n",
      "     </li></ul>\n",
      " </div>\n",
      "</body></html>\n"
     ]
    }
   ],
   "source": [
    "result = etree.tostring(html)\n",
    "print(result.decode('utf-8'))"
   ]
  },
  {
   "cell_type": "code",
   "execution_count": 21,
   "metadata": {},
   "outputs": [
    {
     "name": "stdout",
     "output_type": "stream",
     "text": [
      "[]\n"
     ]
    }
   ],
   "source": [
    "result = html.xpath('//li[@class=\"li\"]/a/text()')\n",
    "print(result)"
   ]
  },
  {
   "cell_type": "markdown",
   "metadata": {},
   "source": [
    "HTML文本中li节点的class属性有两个值li和li-first，此时如果还想用之前的属性匹配获取，就无法匹配了，此时的运行结果如下"
   ]
  },
  {
   "cell_type": "code",
   "execution_count": 22,
   "metadata": {},
   "outputs": [
    {
     "name": "stdout",
     "output_type": "stream",
     "text": [
      "[]\n"
     ]
    }
   ],
   "source": [
    "\n",
    "from lxml import etree\n",
    "text = '''\n",
    "<li class=\"li li-first\"><a href=\"link.html\">first item</a></li>\n",
    "'''\n",
    "html = etree.HTML(text)\n",
    "result = html.xpath('//li[@class=\"li\"]/a/text()')\n",
    "print(result)"
   ]
  },
  {
   "cell_type": "code",
   "execution_count": 23,
   "metadata": {},
   "outputs": [
    {
     "name": "stdout",
     "output_type": "stream",
     "text": [
      "['first item']\n"
     ]
    }
   ],
   "source": [
    "from lxml import etree\n",
    "text = '''\n",
    "<li class=\"li li-first\"><a href=\"link.html\">first item</a></li>\n",
    "'''\n",
    "html = etree.HTML(text)\n",
    "result = html.xpath('//li[contains(@class, \"li\")]/a/text()')\n",
    "print(result)"
   ]
  },
  {
   "cell_type": "markdown",
   "metadata": {},
   "source": [
    "## 多属性匹配"
   ]
  },
  {
   "cell_type": "code",
   "execution_count": 24,
   "metadata": {},
   "outputs": [
    {
     "name": "stdout",
     "output_type": "stream",
     "text": [
      "['first item']\n"
     ]
    }
   ],
   "source": [
    "from lxml import etree\n",
    "text = '''\n",
    "<li class=\"li li-first\" name=\"item\"><a href=\"link.html\">first item</a></li>\n",
    "'''\n",
    "html = etree.HTML(text)\n",
    "result = html.xpath('//li[contains(@class, \"li\") and @name=\"item\"]/a/text()')\n",
    "print(result)"
   ]
  },
  {
   "cell_type": "markdown",
   "metadata": {},
   "source": [
    "##  按序选择"
   ]
  },
  {
   "cell_type": "code",
   "execution_count": 25,
   "metadata": {},
   "outputs": [
    {
     "name": "stdout",
     "output_type": "stream",
     "text": [
      "['first item']\n"
     ]
    }
   ],
   "source": [
    "text = '''\n",
    "<div>\n",
    "    <ul>\n",
    "         <li class=\"item-0\"><a href=\"link1.html\">first item</a></li>\n",
    "         <li class=\"item-1\"><a href=\"link2.html\">second item</a></li>\n",
    "         <li class=\"item-inactive\"><a href=\"link3.html\">third item</a></li>\n",
    "         <li class=\"item-1\"><a href=\"link4.html\">fourth item</a></li>\n",
    "         <li class=\"item-0\"><a href=\"link5.html\">fifth item</a>\n",
    "     </ul>\n",
    " </div>\n",
    "'''\n",
    "html = etree.HTML(text)\n",
    "result = html.xpath('//li[1]/a/text()')\n",
    "print(result)"
   ]
  },
  {
   "cell_type": "code",
   "execution_count": 26,
   "metadata": {},
   "outputs": [
    {
     "name": "stdout",
     "output_type": "stream",
     "text": [
      "['fifth item']\n"
     ]
    }
   ],
   "source": [
    "result = html.xpath('//li[last()]/a/text()')\n",
    "print(result)"
   ]
  },
  {
   "cell_type": "code",
   "execution_count": 27,
   "metadata": {},
   "outputs": [
    {
     "name": "stdout",
     "output_type": "stream",
     "text": [
      "['first item', 'second item']\n"
     ]
    }
   ],
   "source": [
    "result = html.xpath('//li[position()<3]/a/text()')\n",
    "print(result)"
   ]
  },
  {
   "cell_type": "code",
   "execution_count": 28,
   "metadata": {},
   "outputs": [
    {
     "name": "stdout",
     "output_type": "stream",
     "text": [
      "['third item']\n"
     ]
    }
   ],
   "source": [
    "result = html.xpath('//li[last()-2]/a/text()')\n",
    "print(result)"
   ]
  },
  {
   "cell_type": "markdown",
   "metadata": {},
   "source": [
    "## 节点轴选择"
   ]
  },
  {
   "cell_type": "markdown",
   "metadata": {},
   "source": [
    "调用了ancestor轴，可以获取所有祖先节点。其后需要跟两个冒号，然后是节点的选择器，这里我们直接使用*，表示匹配所有节点，因此返回结果是第一个li节点的所有祖先节点，包括html、body、div和ul。"
   ]
  },
  {
   "cell_type": "code",
   "execution_count": 40,
   "metadata": {},
   "outputs": [
    {
     "name": "stdout",
     "output_type": "stream",
     "text": [
      "<html><body><div>\n",
      "    <ul>\n",
      "         <li class=\"item-0\"><a href=\"link1.html\"><span>first item</span></a></li>\n",
      "         <li class=\"item-1\"><a href=\"link2.html\">second item</a></li>\n",
      "         <li class=\"item-inactive\"><a href=\"link3.html\">third item</a></li>\n",
      "         <li class=\"item-1\"><a href=\"link4.html\">fourth item</a></li>\n",
      "         <li class=\"item-0\"><a href=\"link5.html\">fifth item</a>\n",
      "     </li></ul>\n",
      " </div>\n",
      "</body></html>\n"
     ]
    }
   ],
   "source": [
    "text = '''\n",
    "<div>\n",
    "    <ul>\n",
    "         <li class=\"item-0\"><a href=\"link1.html\"><span>first item</span></a></li>\n",
    "         <li class=\"item-1\"><a href=\"link2.html\">second item</a></li>\n",
    "         <li class=\"item-inactive\"><a href=\"link3.html\">third item</a></li>\n",
    "         <li class=\"item-1\"><a href=\"link4.html\">fourth item</a></li>\n",
    "         <li class=\"item-0\"><a href=\"link5.html\">fifth item</a>\n",
    "     </ul>\n",
    " </div>\n",
    "'''\n",
    "html = etree.HTML(text)\n",
    "result = etree.tostring(html)\n",
    "print(result.decode('utf-8'))"
   ]
  },
  {
   "cell_type": "code",
   "execution_count": 32,
   "metadata": {},
   "outputs": [
    {
     "name": "stdout",
     "output_type": "stream",
     "text": [
      "[<Element html at 0x1fe4a4bafc8>, <Element body at 0x1fe4a4ba708>, <Element div at 0x1fe4a4b0c48>, <Element ul at 0x1fe4a4b01c8>]\n"
     ]
    }
   ],
   "source": [
    "result = html.xpath('//li[1]/ancestor::*')\n",
    "print(result)"
   ]
  },
  {
   "cell_type": "code",
   "execution_count": 34,
   "metadata": {},
   "outputs": [
    {
     "name": "stdout",
     "output_type": "stream",
     "text": [
      "[<Element div at 0x1fe4a4b0c48>]\n"
     ]
    }
   ],
   "source": [
    "result = html.xpath('//li[1]/ancestor::div')\n",
    "print(result)"
   ]
  },
  {
   "cell_type": "code",
   "execution_count": 35,
   "metadata": {},
   "outputs": [
    {
     "name": "stdout",
     "output_type": "stream",
     "text": [
      "['item-0']\n"
     ]
    }
   ],
   "source": [
    "result = html.xpath('//li[1]/attribute::*')\n",
    "print(result)"
   ]
  },
  {
   "cell_type": "code",
   "execution_count": 37,
   "metadata": {},
   "outputs": [
    {
     "name": "stdout",
     "output_type": "stream",
     "text": [
      "[<Element a at 0x1fe48655188>]\n"
     ]
    }
   ],
   "source": [
    "result = html.xpath('//li[1]/child::a[@href=\"link1.html\"]')\n",
    "print(result)"
   ]
  },
  {
   "cell_type": "code",
   "execution_count": 38,
   "metadata": {},
   "outputs": [
    {
     "name": "stdout",
     "output_type": "stream",
     "text": [
      "[<Element span at 0x1fe4a48ba08>]\n"
     ]
    }
   ],
   "source": [
    "result = html.xpath('//li[1]/descendant::span')\n",
    "print(result)"
   ]
  },
  {
   "cell_type": "code",
   "execution_count": 39,
   "metadata": {},
   "outputs": [
    {
     "name": "stdout",
     "output_type": "stream",
     "text": [
      "[<Element a at 0x1fe4a486988>]\n"
     ]
    }
   ],
   "source": [
    "result = html.xpath('//li[1]/following::*[2]')\n",
    "print(result)"
   ]
  },
  {
   "cell_type": "code",
   "execution_count": null,
   "metadata": {},
   "outputs": [],
   "source": []
  },
  {
   "cell_type": "code",
   "execution_count": null,
   "metadata": {},
   "outputs": [],
   "source": []
  }
 ],
 "metadata": {
  "kernelspec": {
   "display_name": "Python 3",
   "language": "python",
   "name": "python3"
  },
  "language_info": {
   "codemirror_mode": {
    "name": "ipython",
    "version": 3
   },
   "file_extension": ".py",
   "mimetype": "text/x-python",
   "name": "python",
   "nbconvert_exporter": "python",
   "pygments_lexer": "ipython3",
   "version": "3.7.3"
  }
 },
 "nbformat": 4,
 "nbformat_minor": 2
}
